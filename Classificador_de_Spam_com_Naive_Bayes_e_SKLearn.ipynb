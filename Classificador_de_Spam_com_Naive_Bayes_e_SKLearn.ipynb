{
 "cells": [
  {
   "cell_type": "code",
   "execution_count": 1,
   "metadata": {},
   "outputs": [],
   "source": [
    "import os\n",
    "import io\n",
    "import numpy\n",
    "\n",
    "NEWLINE = '\\n'\n",
    "SKIP_FILES = set(['cmds'])\n",
    "\n",
    "def read_files(path):\n",
    "    for root, dir_names, file_names in os.walk(path):\n",
    "        for path in dir_names:\n",
    "            read_files(os.path.join(root, path))\n",
    "    for file_name in file_names:\n",
    "        if file_name not in SKIP_FILES:\n",
    "            file_path = os.path.join(root, file_name)\n",
    "        if os.path.isfile(file_path):\n",
    "            past_header, lines = False, []\n",
    "            #f = open(file_path)\n",
    "            f = io.open(file_path, mode=\"r\", encoding=\"Latin-1\")\n",
    "            for line in f:\n",
    "                if past_header:\n",
    "                    lines.append(line)\n",
    "                elif line == NEWLINE:\n",
    "                    past_header = True\n",
    "            f.close()\n",
    "            yield file_path, NEWLINE.join(lines)#.decode('cp1252', 'ignore')"
   ]
  },
  {
   "cell_type": "code",
   "execution_count": 2,
   "metadata": {},
   "outputs": [],
   "source": [
    "from pandas import DataFrame\n",
    "\n",
    "def build_data_frame(path, classification):\n",
    "    data_frame = DataFrame({'text': [], 'class': []})\n",
    "    for file_name, text in read_files(path): # ERRO\n",
    "        data_frame = data_frame.append(\n",
    "            DataFrame({'text': [text], 'class': [classification]}, index=[file_name]))\n",
    "    return data_frame"
   ]
  },
  {
   "cell_type": "code",
   "execution_count": 8,
   "metadata": {},
   "outputs": [
    {
     "name": "stdout",
     "output_type": "stream",
     "text": [
      "text     How are you doing?\\n\\n\\n\\nIf you've been like ...\n",
      "class                                                  1.0\n",
      "Name: data/spam/spam/0177.d62ac309d8030ef816f7831c3d5d3f7d, dtype: object\n"
     ]
    }
   ],
   "source": [
    "HAM = 0\n",
    "SPAM = 1\n",
    "\n",
    "SOURCES = [\n",
    "    ('data/spam',         SPAM),\n",
    "    ('data/spam_2',       SPAM),\n",
    "    ('data/easy_ham',     HAM),\n",
    "    ('data/hard_ham',     HAM),\n",
    "    ]\n",
    "\n",
    "data = DataFrame({'text': [], 'class': []})\n",
    "for path, classification in SOURCES:\n",
    "    data = data.append(build_data_frame(path, classification))\n",
    "\n",
    "# data = data.reindex(numpy.random.permutation(data.index))"
   ]
  },
  {
   "cell_type": "code",
   "execution_count": 25,
   "metadata": {},
   "outputs": [],
   "source": [
    "from sklearn.utils import shuffle\n",
    "data = shuffle(data)"
   ]
  },
  {
   "cell_type": "code",
   "execution_count": 26,
   "metadata": {},
   "outputs": [],
   "source": [
    "import numpy\n",
    "from sklearn.feature_extraction.text import CountVectorizer\n",
    "\n",
    "count_vectorizer = CountVectorizer()\n",
    "counts = count_vectorizer.fit_transform(numpy.asarray(data['text']))"
   ]
  },
  {
   "cell_type": "code",
   "execution_count": 27,
   "metadata": {},
   "outputs": [
    {
     "data": {
      "text/plain": [
       "MultinomialNB()"
      ]
     },
     "execution_count": 27,
     "metadata": {},
     "output_type": "execute_result"
    }
   ],
   "source": [
    "from sklearn.naive_bayes import MultinomialNB\n",
    "\n",
    "classifier = MultinomialNB()\n",
    "targets = numpy.asarray(data['class'])\n",
    "classifier.fit(counts, targets)"
   ]
  },
  {
   "cell_type": "code",
   "execution_count": 28,
   "metadata": {},
   "outputs": [
    {
     "data": {
      "text/plain": [
       "array([1., 0.])"
      ]
     },
     "execution_count": 28,
     "metadata": {},
     "output_type": "execute_result"
    }
   ],
   "source": [
    "examples = ['Free Viagra call today!', \"I'm going to attend the Linux users group tomorrow.\"]\n",
    "example_counts = count_vectorizer.transform(examples)\n",
    "predictions = classifier.predict(example_counts)\n",
    "predictions # [1, 0]"
   ]
  },
  {
   "cell_type": "code",
   "execution_count": 33,
   "metadata": {},
   "outputs": [],
   "source": [
    "# from sklearn.pipeline import Pipeline\n",
    "\n",
    "# pipeline = Pipeline([\n",
    "#   ('vectorizer',  CountVectorizer()),\n",
    "#   ('classifier',  MultinomialNB()) ])\n",
    "\n",
    "# pipeline.fit(numpy.asarray(data['text']), numpy.asarray(data['class']))\n",
    "# pipeline.predict(examples) # [1, 0]"
   ]
  },
  {
   "cell_type": "code",
   "execution_count": 32,
   "metadata": {},
   "outputs": [],
   "source": [
    "# from sklearn.model_selection import KFold\n",
    "\n",
    "# k_fold = KFold(n=len(data), n_folds=6, indices=False)\n",
    "# scores = []\n",
    "# for train_indices, test_indices in k_fold:\n",
    "#   train_text = numpy.asarray(data[train_indices]['text'])\n",
    "#   train_y    = numpy.asarray(data[train_indices]['class'])\n",
    "\n",
    "#   test_text  = numpy.asarray(data[test_indices]['text'])\n",
    "#   test_y     = numpy.asarray(data[test_indices]['class'])\n",
    "\n",
    "#   pipeline.fit(train_text, train_y)\n",
    "#   score = pipeline.score(test_text, test_y)\n",
    "#   scores.append(score)\n",
    "\n",
    "# score = sum(scores) / len(scores)"
   ]
  },
  {
   "cell_type": "code",
   "execution_count": null,
   "metadata": {},
   "outputs": [],
   "source": [
    "# pipeline = Pipeline([\n",
    "#   ('count_vectorizer',   CountVectorizer(ngram_range=(1, 2))),\n",
    "#   ('classifier',         MultinomialNB()) ])"
   ]
  },
  {
   "cell_type": "code",
   "execution_count": null,
   "metadata": {},
   "outputs": [],
   "source": [
    "# pipeline = Pipeline([\n",
    "#   ('count_vectorizer',   CountVectorizer(ngram_range=(1, 2))),\n",
    "#   ('tfidf_transformer',  TfidfTransformer()),\n",
    "#   ('classifier',         MultinomialNB()) ])"
   ]
  },
  {
   "cell_type": "code",
   "execution_count": null,
   "metadata": {},
   "outputs": [],
   "source": [
    "# from sklearn.naive_bayes import BernoulliNB\n",
    "\n",
    "# pipeline = Pipeline([\n",
    "#   ('count_vectorizer',   CountVectorizer(ngram_range=(1, 2))),\n",
    "#   ('classifier',         BernoulliNB(binarize=0.0)) ])"
   ]
  }
 ],
 "metadata": {
  "kernelspec": {
   "display_name": "Python 3",
   "language": "python",
   "name": "python3"
  },
  "language_info": {
   "codemirror_mode": {
    "name": "ipython",
    "version": 3
   },
   "file_extension": ".py",
   "mimetype": "text/x-python",
   "name": "python",
   "nbconvert_exporter": "python",
   "pygments_lexer": "ipython3",
   "version": "3.8.10"
  }
 },
 "nbformat": 4,
 "nbformat_minor": 5
}
